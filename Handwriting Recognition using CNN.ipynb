{
 "cells": [
  {
   "cell_type": "markdown",
   "id": "8ff6442a-e9f5-494b-9047-db98cd60814a",
   "metadata": {},
   "source": [
    "# Handwritten Digit Classification using CNN"
   ]
  },
  {
   "cell_type": "markdown",
   "id": "0468a3b9-15c4-405f-8b94-b72c4d4e89ce",
   "metadata": {},
   "source": [
    "## Task-1 "
   ]
  },
  {
   "cell_type": "markdown",
   "id": "6a250745-7686-4c8c-a534-3b6549480729",
   "metadata": {},
   "source": [
    "## Data Preparation And Augmentaion"
   ]
  },
  {
   "cell_type": "code",
   "execution_count": 1,
   "id": "cbb02956-8d14-42c9-8f0e-84fef50a8166",
   "metadata": {},
   "outputs": [],
   "source": [
    "# required libraries\n",
    "\n",
    "import torch\n",
    "import torch.nn as nn\n",
    "import torch.optim as optim\n",
    "import torchvision\n",
    "import torchvision.transforms as transforms\n",
    "import matplotlib.pyplot as plt\n",
    "import numpy as np\n",
    "from sklearn.metrics import confusion_matrix, ConfusionMatrixDisplay"
   ]
  },
  {
   "cell_type": "code",
   "execution_count": 2,
   "id": "3bac5e48-deb5-4313-bb28-6b6beb059ff8",
   "metadata": {},
   "outputs": [],
   "source": [
    "# Preprocessing and Data augmetation\n",
    "train_transform = transforms.Compose([\n",
    "    transforms.RandomRotation(10),\n",
    "    transforms.RandomResizedCrop(28, scale=(0.7, 1.0), ratio=(0.9, 1.1)),\n",
    "    transforms.RandomAffine(0, translate=(0.1, 0.1)),   \n",
    "    transforms.ToTensor(),\n",
    "    transforms.Normalize((0.1307,), (0.3081,))          \n",
    "])\n",
    "\n",
    "test_transform = transforms.Compose([\n",
    "    transforms.ToTensor(),\n",
    "    transforms.Normalize((0.1307,), (0.3081,))\n",
    "])\n",
    "\n",
    "# downloading dataset\n",
    "train_data = torchvision.datasets.MNIST(root='./data', train=True, transform=train_transform, download=True)\n",
    "test_data = torchvision.datasets.MNIST(root='./data', train=False, transform=test_transform, download=True)\n",
    "\n",
    "# loading dataset\n",
    "trainloader = torch.utils.data.DataLoader(train_data, batch_size=64, shuffle=True)\n",
    "testloader = torch.utils.data.DataLoader(test_data, batch_size=64, shuffle=False)"
   ]
  },
  {
   "cell_type": "code",
   "execution_count": 3,
   "id": "e67e3839-b8b4-4451-8313-f3734ea25e73",
   "metadata": {},
   "outputs": [
    {
     "data": {
      "image/png": "[encoded data removed]",
      "text/plain": [
       "<Figure size 1300x200 with 10 Axes>"
      ]
     },
     "metadata": {},
     "output_type": "display_data"
    }
   ],
   "source": [
    "# Visulaizing id dataset has loaded correctly\n",
    "images, labels = next(iter(trainloader))\n",
    "plt.figure(figsize=(13,2))\n",
    "for i in range(10):\n",
    "    plt.subplot(1,10,i+1)\n",
    "    plt.imshow(images[i][0], cmap='gray')\n",
    "    plt.title(str(labels[i].item()))\n",
    "    plt.axis('off')\n",
    "plt.suptitle(\"Sample Batch Of Images\", fontweight='bold', fontsize='16')\n",
    "plt.show()"
   ]
  },
  {
   "cell_type": "markdown",
   "id": "96b3edab-2885-4a1b-820b-144f7c7c7810",
   "metadata": {},
   "source": [
    "## Task-2"
   ]
  },
  {
   "cell_type": "markdown",
   "id": "4ce44ea0-9b4b-49f6-bb6e-ffda8d332868",
   "metadata": {},
   "source": [
    "## CNN Architecture Design"
   ]
  },
  {
   "cell_type": "code",
   "execution_count": 4,
   "id": "0853704f-a9e4-4583-8863-fa2299801545",
   "metadata": {},
   "outputs": [],
   "source": [
    "class Net(nn.Module):\n",
    "    def __init__(self):\n",
    "        super(Net, self).__init__()\n",
    "        self.conv1 = nn.Conv2d(1, 32, 3, padding=1)\n",
    "        self.conv2 = nn.Conv2d(32, 64, 3, padding=1)\n",
    "        self.pool = nn.MaxPool2d(2, 2)\n",
    "        self.fc1 = nn.Linear(64 * 7 * 7, 128)\n",
    "        self.fc2 = nn.Linear(128, 10)\n",
    "        self.logsoftmax = nn.LogSoftmax(dim=1)\n",
    "\n",
    "    def forward(self, x):\n",
    "        x = self.pool(torch.relu(self.conv1(x)))  \n",
    "        x = self.pool(torch.relu(self.conv2(x)))  \n",
    "        x = x.view(-1, 64 * 7 * 7)                \n",
    "        x = torch.relu(self.fc1(x))                                     \n",
    "        x = self.fc2(x)                           \n",
    "        return self.logsoftmax(x)                 \n",
    "\n",
    "net = Net()"
   ]
  },
  {
   "cell_type": "code",
   "execution_count": 5,
   "id": "f9a0d727-82c5-4b04-a487-ee75f289724e",
   "metadata": {},
   "outputs": [],
   "source": [
    "#  Simple Model without using Module and only with Sequential\n",
    "\n",
    "# net = nn.Sequential(\n",
    "\n",
    "#     nn.Conv2d(1, 32, 3, padding=1),     \n",
    "#     nn.ReLU(),\n",
    "#     nn.MaxPool2d(2, 2),                 \n",
    "\n",
    "#     nn.Conv2d(32, 64, 3, padding=1),    \n",
    "#     nn.ReLU(),\n",
    "#     nn.MaxPool2d(2, 2),                 \n",
    "\n",
    "#     nn.Flatten(),                       \n",
    "\n",
    "#     nn.Linear(64 * 7 * 7, 128),         \n",
    "#     nn.ReLU(),                   \n",
    "\n",
    "#     nn.Linear(128, 10),                 \n",
    "#     nn.LogSoftmax(dim=1)                \n",
    "# )\n"
   ]
  },
  {
   "cell_type": "markdown",
   "id": "04933209-c101-4bc2-9662-0c0b783b566d",
   "metadata": {},
   "source": [
    "## Task-3"
   ]
  },
  {
   "cell_type": "markdown",
   "id": "1e57db5f-3477-48e1-9718-9cd7561d2875",
   "metadata": {},
   "source": [
    "## Model Training And Evaluation"
   ]
  },
  {
   "cell_type": "code",
   "execution_count": null,
   "id": "8b47e5b7-3b34-44a6-99e2-6439f48cf6ef",
   "metadata": {},
   "outputs": [],
   "source": [
    "criterion = nn.NLLLoss()\n",
    "optimizer = optim.Adam(net.parameters(), lr=0.001)\n",
    "\n",
    "num_epochs = 10\n",
    "train_losses = []\n",
    "val_losses = []\n",
    "\n",
    "for epoch in range(num_epochs):\n",
    "    net.train()\n",
    "    running_loss = 0.0\n",
    "    for images, labels in trainloader:\n",
    "        optimizer.zero_grad()\n",
    "        outputs = net(images)\n",
    "        loss = criterion(outputs, labels)\n",
    "        loss.backward()\n",
    "        optimizer.step()\n",
    "        running_loss += loss.item()\n",
    "    avg_train_loss = running_loss / len(trainloader)\n",
    "    train_losses.append(avg_train_loss)\n",
    "\n",
    "    # training/validation loss\n",
    "    net.eval()\n",
    "    val_loss = 0.0\n",
    "    with torch.no_grad():\n",
    "        for images, labels in testloader:\n",
    "            outputs = net(images)\n",
    "            loss = criterion(outputs, labels)\n",
    "            val_loss += loss.item()\n",
    "    avg_val_loss = val_loss / len(testloader)\n",
    "    val_losses.append(avg_val_loss)\n",
    "    print(f\"Epoch {epoch+1}: Training Loss={avg_train_loss:.4f}, Validation Loss={avg_val_loss:.4f}\")"
   ]
  },
  {
   "cell_type": "markdown",
   "id": "9095ee70-1b16-4161-9f8d-8d430e270178",
   "metadata": {},
   "source": [
    "## Task-4"
   ]
  },
  {
   "cell_type": "markdown",
   "id": "1108cc3d-f886-4c91-bed4-187070cacdf5",
   "metadata": {},
   "source": [
    "## Analysis And Conclusion"
   ]
  },
  {
   "cell_type": "code",
   "execution_count": null,
   "id": "b39729ec-e258-4696-bead-23941b2180d6",
   "metadata": {},
   "outputs": [],
   "source": [
    "# Final Accuracy\n",
    "\n",
    "net.eval()\n",
    "correct = 0\n",
    "total = 0\n",
    "trained = []\n",
    "labelled = []\n",
    "with torch.no_grad():\n",
    "    for images, labels in testloader:\n",
    "        outputs = net(images)\n",
    "        _, predicted = torch.max(outputs, 1)\n",
    "        total += labels.size(0)\n",
    "        correct += (predicted == labels).sum().item()\n",
    "        trained.extend(predicted.cpu().numpy())\n",
    "        labelled.extend(labels.cpu().numpy())\n",
    "test_accuracy = 100 * correct / total\n",
    "print(f\"Final Test Accuracy: {test_accuracy:.2f}%\")"
   ]
  },
  {
   "cell_type": "code",
   "execution_count": null,
   "id": "357fe80c-f954-44b9-9364-977dbcb97a7d",
   "metadata": {},
   "outputs": [],
   "source": [
    "# Confusion Matrix\n",
    "cm = confusion_matrix(labelled, trained)\n",
    "plt.figure(figsize=(8,8))\n",
    "disp = ConfusionMatrixDisplay(confusion_matrix=cm, display_labels=[str(i) for i in range(10)])\n",
    "disp.plot(cmap='gray')\n",
    "plt.title('Confusion Matrix', fontweight='bold')\n",
    "plt.show()"
   ]
  },
  {
   "cell_type": "code",
   "execution_count": null,
   "id": "846f9272-b634-4ff0-8d30-e390322d068a",
   "metadata": {},
   "outputs": [],
   "source": []
  }
 ],
 "metadata": {
  "kernelspec": {
   "display_name": "Python (tf)",
   "language": "python",
   "name": "tf"
  },
  "language_info": {
   "codemirror_mode": {
    "name": "ipython",
    "version": 3
   },
   "file_extension": ".py",
   "mimetype": "text/x-python",
   "name": "python",
   "nbconvert_exporter": "python",
   "pygments_lexer": "ipython3",
   "version": "3.9.18"
  }
 },
 "nbformat": 4,
 "nbformat_minor": 5
}
